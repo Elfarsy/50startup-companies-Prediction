{
 "cells": [
  {
   "cell_type": "code",
   "execution_count": 1,
   "id": "77b27222",
   "metadata": {},
   "outputs": [],
   "source": [
    "#Important libraries\n",
    "import numpy as np\n",
    "import pandas as pd\n",
    "import matplotlib.pyplot as plt\n",
    "import seaborn as sns"
   ]
  },
  {
   "cell_type": "code",
   "execution_count": 3,
   "id": "e5127496",
   "metadata": {},
   "outputs": [],
   "source": [
    "#Uploading Data\n",
    "data = pd.read_csv(\"50_Startups.csv\")"
   ]
  },
  {
   "cell_type": "code",
   "execution_count": 5,
   "id": "9dfb5111",
   "metadata": {},
   "outputs": [
    {
     "data": {
      "text/html": [
       "<div>\n",
       "<style scoped>\n",
       "    .dataframe tbody tr th:only-of-type {\n",
       "        vertical-align: middle;\n",
       "    }\n",
       "\n",
       "    .dataframe tbody tr th {\n",
       "        vertical-align: top;\n",
       "    }\n",
       "\n",
       "    .dataframe thead th {\n",
       "        text-align: right;\n",
       "    }\n",
       "</style>\n",
       "<table border=\"1\" class=\"dataframe\">\n",
       "  <thead>\n",
       "    <tr style=\"text-align: right;\">\n",
       "      <th></th>\n",
       "      <th>R&amp;D Spend</th>\n",
       "      <th>Administration</th>\n",
       "      <th>Marketing Spend</th>\n",
       "      <th>State</th>\n",
       "      <th>Profit</th>\n",
       "    </tr>\n",
       "  </thead>\n",
       "  <tbody>\n",
       "    <tr>\n",
       "      <th>0</th>\n",
       "      <td>165349.20</td>\n",
       "      <td>136897.80</td>\n",
       "      <td>471784.10</td>\n",
       "      <td>New York</td>\n",
       "      <td>192261.83</td>\n",
       "    </tr>\n",
       "    <tr>\n",
       "      <th>1</th>\n",
       "      <td>162597.70</td>\n",
       "      <td>151377.59</td>\n",
       "      <td>443898.53</td>\n",
       "      <td>California</td>\n",
       "      <td>191792.06</td>\n",
       "    </tr>\n",
       "    <tr>\n",
       "      <th>2</th>\n",
       "      <td>153441.51</td>\n",
       "      <td>101145.55</td>\n",
       "      <td>407934.54</td>\n",
       "      <td>Florida</td>\n",
       "      <td>191050.39</td>\n",
       "    </tr>\n",
       "    <tr>\n",
       "      <th>3</th>\n",
       "      <td>144372.41</td>\n",
       "      <td>118671.85</td>\n",
       "      <td>383199.62</td>\n",
       "      <td>New York</td>\n",
       "      <td>182901.99</td>\n",
       "    </tr>\n",
       "    <tr>\n",
       "      <th>4</th>\n",
       "      <td>142107.34</td>\n",
       "      <td>91391.77</td>\n",
       "      <td>366168.42</td>\n",
       "      <td>Florida</td>\n",
       "      <td>166187.94</td>\n",
       "    </tr>\n",
       "  </tbody>\n",
       "</table>\n",
       "</div>"
      ],
      "text/plain": [
       "   R&D Spend  Administration  Marketing Spend       State     Profit\n",
       "0  165349.20       136897.80        471784.10    New York  192261.83\n",
       "1  162597.70       151377.59        443898.53  California  191792.06\n",
       "2  153441.51       101145.55        407934.54     Florida  191050.39\n",
       "3  144372.41       118671.85        383199.62    New York  182901.99\n",
       "4  142107.34        91391.77        366168.42     Florida  166187.94"
      ]
     },
     "execution_count": 5,
     "metadata": {},
     "output_type": "execute_result"
    }
   ],
   "source": [
    "#Show first 5 lines\n",
    "data.head()"
   ]
  },
  {
   "cell_type": "code",
   "execution_count": 8,
   "id": "5d7ee43f",
   "metadata": {},
   "outputs": [
    {
     "data": {
      "text/plain": [
       "(50, 5)"
      ]
     },
     "execution_count": 8,
     "metadata": {},
     "output_type": "execute_result"
    }
   ],
   "source": [
    "#كم صف وكم عمود\n",
    "data.shape"
   ]
  },
  {
   "cell_type": "code",
   "execution_count": 10,
   "id": "fcf3d14f",
   "metadata": {},
   "outputs": [
    {
     "data": {
      "text/html": [
       "<div>\n",
       "<style scoped>\n",
       "    .dataframe tbody tr th:only-of-type {\n",
       "        vertical-align: middle;\n",
       "    }\n",
       "\n",
       "    .dataframe tbody tr th {\n",
       "        vertical-align: top;\n",
       "    }\n",
       "\n",
       "    .dataframe thead th {\n",
       "        text-align: right;\n",
       "    }\n",
       "</style>\n",
       "<table border=\"1\" class=\"dataframe\">\n",
       "  <thead>\n",
       "    <tr style=\"text-align: right;\">\n",
       "      <th></th>\n",
       "      <th>R&amp;D Spend</th>\n",
       "      <th>Administration</th>\n",
       "      <th>Marketing Spend</th>\n",
       "      <th>Profit</th>\n",
       "    </tr>\n",
       "  </thead>\n",
       "  <tbody>\n",
       "    <tr>\n",
       "      <th>count</th>\n",
       "      <td>50.000000</td>\n",
       "      <td>50.000000</td>\n",
       "      <td>50.000000</td>\n",
       "      <td>50.000000</td>\n",
       "    </tr>\n",
       "    <tr>\n",
       "      <th>mean</th>\n",
       "      <td>73721.615600</td>\n",
       "      <td>121344.639600</td>\n",
       "      <td>211025.097800</td>\n",
       "      <td>112012.639200</td>\n",
       "    </tr>\n",
       "    <tr>\n",
       "      <th>std</th>\n",
       "      <td>45902.256482</td>\n",
       "      <td>28017.802755</td>\n",
       "      <td>122290.310726</td>\n",
       "      <td>40306.180338</td>\n",
       "    </tr>\n",
       "    <tr>\n",
       "      <th>min</th>\n",
       "      <td>0.000000</td>\n",
       "      <td>51283.140000</td>\n",
       "      <td>0.000000</td>\n",
       "      <td>14681.400000</td>\n",
       "    </tr>\n",
       "    <tr>\n",
       "      <th>25%</th>\n",
       "      <td>39936.370000</td>\n",
       "      <td>103730.875000</td>\n",
       "      <td>129300.132500</td>\n",
       "      <td>90138.902500</td>\n",
       "    </tr>\n",
       "    <tr>\n",
       "      <th>50%</th>\n",
       "      <td>73051.080000</td>\n",
       "      <td>122699.795000</td>\n",
       "      <td>212716.240000</td>\n",
       "      <td>107978.190000</td>\n",
       "    </tr>\n",
       "    <tr>\n",
       "      <th>75%</th>\n",
       "      <td>101602.800000</td>\n",
       "      <td>144842.180000</td>\n",
       "      <td>299469.085000</td>\n",
       "      <td>139765.977500</td>\n",
       "    </tr>\n",
       "    <tr>\n",
       "      <th>max</th>\n",
       "      <td>165349.200000</td>\n",
       "      <td>182645.560000</td>\n",
       "      <td>471784.100000</td>\n",
       "      <td>192261.830000</td>\n",
       "    </tr>\n",
       "  </tbody>\n",
       "</table>\n",
       "</div>"
      ],
      "text/plain": [
       "           R&D Spend  Administration  Marketing Spend         Profit\n",
       "count      50.000000       50.000000        50.000000      50.000000\n",
       "mean    73721.615600   121344.639600    211025.097800  112012.639200\n",
       "std     45902.256482    28017.802755    122290.310726   40306.180338\n",
       "min         0.000000    51283.140000         0.000000   14681.400000\n",
       "25%     39936.370000   103730.875000    129300.132500   90138.902500\n",
       "50%     73051.080000   122699.795000    212716.240000  107978.190000\n",
       "75%    101602.800000   144842.180000    299469.085000  139765.977500\n",
       "max    165349.200000   182645.560000    471784.100000  192261.830000"
      ]
     },
     "execution_count": 10,
     "metadata": {},
     "output_type": "execute_result"
    }
   ],
   "source": [
    "#بتعرضلي اصغر قميه و اكبر قيمه و المتوسط و النسب\n",
    "data.describe()"
   ]
  },
  {
   "cell_type": "code",
   "execution_count": 13,
   "id": "2aac214e",
   "metadata": {},
   "outputs": [
    {
     "data": {
      "text/plain": [
       "R&D Spend          0\n",
       "Administration     0\n",
       "Marketing Spend    0\n",
       "State              0\n",
       "Profit             0\n",
       "dtype: int64"
      ]
     },
     "execution_count": 13,
     "metadata": {},
     "output_type": "execute_result"
    }
   ],
   "source": [
    "#هتعرضلي العواميد اللي فيها حاجه قيم فاضيه\n",
    "data.isnull().sum()\n"
   ]
  },
  {
   "cell_type": "code",
   "execution_count": 15,
   "id": "11e25fde",
   "metadata": {},
   "outputs": [
    {
     "data": {
      "text/plain": [
       "0"
      ]
     },
     "execution_count": 15,
     "metadata": {},
     "output_type": "execute_result"
    }
   ],
   "source": [
    "#هيعرضلي القيم اللي متكرره\n",
    "data.duplicated().sum()"
   ]
  },
  {
   "cell_type": "code",
   "execution_count": 16,
   "id": "30b143c7",
   "metadata": {},
   "outputs": [
    {
     "name": "stdout",
     "output_type": "stream",
     "text": [
      "<class 'pandas.core.frame.DataFrame'>\n",
      "RangeIndex: 50 entries, 0 to 49\n",
      "Data columns (total 5 columns):\n",
      " #   Column           Non-Null Count  Dtype  \n",
      "---  ------           --------------  -----  \n",
      " 0   R&D Spend        50 non-null     float64\n",
      " 1   Administration   50 non-null     float64\n",
      " 2   Marketing Spend  50 non-null     float64\n",
      " 3   State            50 non-null     object \n",
      " 4   Profit           50 non-null     float64\n",
      "dtypes: float64(4), object(1)\n",
      "memory usage: 2.1+ KB\n"
     ]
    }
   ],
   "source": [
    "#هيعرضلي بعض المعلومات عن داتا زي ونوعها و هل في حاجات فاضيه ولا لا و استخدام الميموري\n",
    "data.info()"
   ]
  },
  {
   "cell_type": "code",
   "execution_count": 17,
   "id": "20bd6af3",
   "metadata": {},
   "outputs": [
    {
     "data": {
      "text/html": [
       "<div>\n",
       "<style scoped>\n",
       "    .dataframe tbody tr th:only-of-type {\n",
       "        vertical-align: middle;\n",
       "    }\n",
       "\n",
       "    .dataframe tbody tr th {\n",
       "        vertical-align: top;\n",
       "    }\n",
       "\n",
       "    .dataframe thead th {\n",
       "        text-align: right;\n",
       "    }\n",
       "</style>\n",
       "<table border=\"1\" class=\"dataframe\">\n",
       "  <thead>\n",
       "    <tr style=\"text-align: right;\">\n",
       "      <th></th>\n",
       "      <th>R&amp;D Spend</th>\n",
       "      <th>Administration</th>\n",
       "      <th>Marketing Spend</th>\n",
       "      <th>Profit</th>\n",
       "    </tr>\n",
       "  </thead>\n",
       "  <tbody>\n",
       "    <tr>\n",
       "      <th>R&amp;D Spend</th>\n",
       "      <td>1.000000</td>\n",
       "      <td>0.241955</td>\n",
       "      <td>0.724248</td>\n",
       "      <td>0.972900</td>\n",
       "    </tr>\n",
       "    <tr>\n",
       "      <th>Administration</th>\n",
       "      <td>0.241955</td>\n",
       "      <td>1.000000</td>\n",
       "      <td>-0.032154</td>\n",
       "      <td>0.200717</td>\n",
       "    </tr>\n",
       "    <tr>\n",
       "      <th>Marketing Spend</th>\n",
       "      <td>0.724248</td>\n",
       "      <td>-0.032154</td>\n",
       "      <td>1.000000</td>\n",
       "      <td>0.747766</td>\n",
       "    </tr>\n",
       "    <tr>\n",
       "      <th>Profit</th>\n",
       "      <td>0.972900</td>\n",
       "      <td>0.200717</td>\n",
       "      <td>0.747766</td>\n",
       "      <td>1.000000</td>\n",
       "    </tr>\n",
       "  </tbody>\n",
       "</table>\n",
       "</div>"
      ],
      "text/plain": [
       "                 R&D Spend  Administration  Marketing Spend    Profit\n",
       "R&D Spend         1.000000        0.241955         0.724248  0.972900\n",
       "Administration    0.241955        1.000000        -0.032154  0.200717\n",
       "Marketing Spend   0.724248       -0.032154         1.000000  0.747766\n",
       "Profit            0.972900        0.200717         0.747766  1.000000"
      ]
     },
     "execution_count": 17,
     "metadata": {},
     "output_type": "execute_result"
    }
   ],
   "source": [
    "#بنسخدمها لهم البيانات او التحليل الاستكشافي و هتورينا فهم العلاقات و دع بنسيمه\n",
    "#Correlation\n",
    "#مدي ارتباط الاعمده مع بعض\n",
    "data.corr()"
   ]
  },
  {
   "cell_type": "code",
   "execution_count": 18,
   "id": "20f905a0",
   "metadata": {},
   "outputs": [
    {
     "data": {
      "image/png": "[encoded data removed]",
      "text/plain": [
       "<Figure size 432x288 with 2 Axes>"
      ]
     },
     "metadata": {
      "needs_background": "light"
     },
     "output_type": "display_data"
    }
   ],
   "source": [
    "#هيعرضلي الكورليشن برضو بس عن طريق الاللوان عشان افهم اكتر الدنيا\n",
    "sns.heatmap(data.corr(),annot=True,cmap='plasma')\n",
    "plt.show()"
   ]
  },
  {
   "cell_type": "markdown",
   "id": "ec29108c",
   "metadata": {},
   "source": [
    "معني الكلام دا ان العلاقات القويه في الرسمه اللي فوق هي العلاقات اللي اللي لونها اصفر و دا طبعا حسب المسطره اللي في الجمب"
   ]
  },
  {
   "cell_type": "code",
   "execution_count": 24,
   "id": "bcb9314d",
   "metadata": {},
   "outputs": [
    {
     "data": {
      "image/png": "[encoded data removed]",
      "text/plain": [
       "<Figure size 288x288 with 1 Axes>"
      ]
     },
     "metadata": {
      "needs_background": "light"
     },
     "output_type": "display_data"
    }
   ],
   "source": [
    "#دا اوت لايرز معناها قيم متطرفه او شاذه \n",
    "outliers=['Profit']\n",
    "plt.rcParams['figure.figsize']=[4,4]\n",
    "sns.boxplot(data=data[outliers], orient=\"v\", palette=\"husl\" , width=0.7)\n",
    "\n",
    "plt.title(\"Outliers Variable Distribution\")\n",
    "plt.ylabel(\"Profit Range\")\n",
    "\n",
    "plt.show()"
   ]
  },
  {
   "cell_type": "code",
   "execution_count": 25,
   "id": "59249e90",
   "metadata": {},
   "outputs": [],
   "source": [
    "#القيم الشاذه دي ماثرتش تاثير كبير علي الداتا"
   ]
  },
  {
   "cell_type": "code",
   "execution_count": 26,
   "id": "221e99ed",
   "metadata": {},
   "outputs": [
    {
     "data": {
      "image/png": "[encoded data removed]",
      "text/plain": [
       "<Figure size 288x288 with 1 Axes>"
      ]
     },
     "metadata": {
      "needs_background": "light"
     },
     "output_type": "display_data"
    }
   ],
   "source": [
    "#دا هيورينا بقا الاوت لايرز او الحاجات الشاذه فين بالظبط عن طريق اسماء الولاياات\n",
    "sns.boxplot(x = 'State' ,y ='Profit' , data= data )\n",
    "plt.show()"
   ]
  },
  {
   "cell_type": "markdown",
   "id": "5d825309",
   "metadata": {},
   "source": [
    "الشركات الموجوده في كالفيريونيا كدا ليها اكثر ربح و اكثر خساره "
   ]
  },
  {
   "cell_type": "code",
   "execution_count": 31,
   "id": "b7502f10",
   "metadata": {},
   "outputs": [
    {
     "data": {
      "image/png": "[encoded data removed]",
      "text/plain": [
       "<Figure size 288x288 with 1 Axes>"
      ]
     },
     "metadata": {
      "needs_background": "light"
     },
     "output_type": "display_data"
    }
   ],
   "source": [
    "#هيعرضلي هيستوجرام\n",
    "sns.histplot(data['Profit'],bins=5,kde=True)   #KDE هو الخط اللي بيظهر علي البارات\n",
    "plt.show()"
   ]
  },
  {
   "cell_type": "code",
   "execution_count": 33,
   "id": "29d20fb9",
   "metadata": {},
   "outputs": [
    {
     "data": {
      "image/png": "[encoded data removed]",
      "text/plain": [
       "<Figure size 720x720 with 20 Axes>"
      ]
     },
     "metadata": {
      "needs_background": "light"
     },
     "output_type": "display_data"
    }
   ],
   "source": [
    "#اشكال توزيع البايانات علي شكل سكاتر بلوت\n",
    "sns.pairplot(data)\n",
    "plt.show()"
   ]
  },
  {
   "cell_type": "markdown",
   "id": "b311793c",
   "metadata": {},
   "source": [
    "# بص يا معلم الحاجات دي بتوريني العلاقات بين الاعمده وبعض\n",
    "يعني مثلا عند في الربح و نسبه البحث و التطوير هتلاقي علاقه طريده بين الاتنين  نفس الكلام مع الماركتينج معني الكلام دا انك مهم جدا انك تعمل ماركيتينج و تدقع فلوس في البحث و التطوير لشركتك عشان تبقي شركه ناجحه و يجيلك ارباح اكتر"
   ]
  },
  {
   "cell_type": "markdown",
   "id": "2ec5d17e",
   "metadata": {},
   "source": [
    "طيب دلوقت هنجهز البيانات بقا عشان نعمل \n",
    "Linear Regression"
   ]
  },
  {
   "cell_type": "code",
   "execution_count": 35,
   "id": "4c02f640",
   "metadata": {},
   "outputs": [],
   "source": [
    "#تجهيز الداتا \n",
    "x=data[[\"R&D Spend\" , \"Administration\" , \"Marketing Spend\"]] #القيم اللي هتساعدنا علي التوقع\n",
    "y=data[\"Profit\"] ##ده اللي هنتوقعو\n",
    "\n",
    "x=x.to_numpy() #عايزين نحول البيانات الي نمباي ارراي \n",
    "y=y.to_numpy() #هنحولها برضو لمصفوفه نمباي\n",
    "#مش فاهم اوي السطر اللي جاي انا اسف\n",
    "y=y.reshape(-1,1)  ## هقول لبايثون اختاري القيمه المناسبه بس بشرط يكون الواحد مود واحد في الواي"
   ]
  },
  {
   "cell_type": "code",
   "execution_count": 38,
   "id": "b550b47b",
   "metadata": {},
   "outputs": [],
   "source": [
    "#هنا بقا هقسم الداتا\n",
    "#تلاتين في الميه هنعمنل عليه تست او اختبار هنشوف الموديل نجح ولا لا\n",
    "#و سبعين في الميه من الداتا دي عشان اعلم الموديل بتاعي ازاي يعمل تست اصلا و يتنبأ بالارباح اللي احا اساس بنعمل المشروع عشانها \n",
    "#راندوم ستيت : الموديل هيطلعلي بيانات مختلفه لو انا محطتش رقم ليها عشان بيطلع ارقام عشوائيه\n",
    "from sklearn.model_selection import train_test_split\n",
    "xtrain, xtest , ytrain ,ytest = train_test_split(x,y,test_size=0.3, random_state=42)"
   ]
  },
  {
   "cell_type": "code",
   "execution_count": 44,
   "id": "d9471cf8",
   "metadata": {},
   "outputs": [
    {
     "name": "stdout",
     "output_type": "stream",
     "text": [
      "   Predicted Profit\n",
      "0     125972.148263\n",
      "1      85471.922710\n",
      "2      98924.151683\n",
      "3      46639.786287\n",
      "4     128142.124732\n"
     ]
    }
   ],
   "source": [
    "from sklearn.linear_model import LinearRegression\n",
    "model=LinearRegression()\n",
    "\n",
    "model.fit(xtrain,ytrain) ##  هنعمل تعبأه للبيانات اللي عملنالها ترين وتيست في الموديل عشان نجرب بقا\n",
    "ypred=model.predict(xtest) ##بعمل بريديت هنا عن طريق الاكس تست او عملنا لها اختبار\n",
    "data=pd.DataFrame(data={\"Predicted Profit\": ypred.flatten()}) ##هيعملي عمود جديد اسمو بريديكتيت بروفيت وهيستخدم الواي بريديكت وبعدها اعمل فلات للقيم\n",
    "#Flatten is used to convert from array a numeric value\n",
    "#يعني بتستعمل اني احول من اراي لقيمه عاديه عشان اعرف اشوفها واتعامل معاها\n",
    "print(data.head())"
   ]
  },
  {
   "cell_type": "code",
   "execution_count": 46,
   "id": "22d36798",
   "metadata": {},
   "outputs": [
    {
     "name": "stdout",
     "output_type": "stream",
     "text": [
      "Model Score /Performance on Testing Data  0.9418819530700165\n",
      "Model Score /Performance on Training Data  0.9508557563847194\n"
     ]
    }
   ],
   "source": [
    "\n",
    "#هنعمل بقا اختبار للموديل عشان نشوف الدقه بتاعتو عامله ازاي حلوه ولا وحشه\n",
    "\n",
    "testing_data_model_score = model.score(xtest , ytest)\n",
    "print(\"Model Score /Performance on Testing Data \" ,testing_data_model_score)\n",
    "\n",
    "training_data_model_score = model.score(xtrain , ytrain)\n",
    "print(\"Model Score /Performance on Training Data \" ,training_data_model_score)\n",
    "\n"
   ]
  },
  {
   "cell_type": "code",
   "execution_count": 49,
   "id": "8ce54853",
   "metadata": {},
   "outputs": [
    {
     "data": {
      "text/html": [
       "<div>\n",
       "<style scoped>\n",
       "    .dataframe tbody tr th:only-of-type {\n",
       "        vertical-align: middle;\n",
       "    }\n",
       "\n",
       "    .dataframe tbody tr th {\n",
       "        vertical-align: top;\n",
       "    }\n",
       "\n",
       "    .dataframe thead th {\n",
       "        text-align: right;\n",
       "    }\n",
       "</style>\n",
       "<table border=\"1\" class=\"dataframe\">\n",
       "  <thead>\n",
       "    <tr style=\"text-align: right;\">\n",
       "      <th></th>\n",
       "      <th>Predicted value</th>\n",
       "      <th>Actual Value</th>\n",
       "    </tr>\n",
       "  </thead>\n",
       "  <tbody>\n",
       "    <tr>\n",
       "      <th>0</th>\n",
       "      <td>125972.148263</td>\n",
       "      <td>134307.35</td>\n",
       "    </tr>\n",
       "    <tr>\n",
       "      <th>1</th>\n",
       "      <td>85471.922710</td>\n",
       "      <td>81005.76</td>\n",
       "    </tr>\n",
       "    <tr>\n",
       "      <th>2</th>\n",
       "      <td>98924.151683</td>\n",
       "      <td>99937.59</td>\n",
       "    </tr>\n",
       "    <tr>\n",
       "      <th>3</th>\n",
       "      <td>46639.786287</td>\n",
       "      <td>64926.08</td>\n",
       "    </tr>\n",
       "    <tr>\n",
       "      <th>4</th>\n",
       "      <td>128142.124732</td>\n",
       "      <td>125370.37</td>\n",
       "    </tr>\n",
       "    <tr>\n",
       "      <th>5</th>\n",
       "      <td>52602.190537</td>\n",
       "      <td>35673.41</td>\n",
       "    </tr>\n",
       "    <tr>\n",
       "      <th>6</th>\n",
       "      <td>108364.697602</td>\n",
       "      <td>105733.54</td>\n",
       "    </tr>\n",
       "    <tr>\n",
       "      <th>7</th>\n",
       "      <td>100331.588469</td>\n",
       "      <td>107404.34</td>\n",
       "    </tr>\n",
       "    <tr>\n",
       "      <th>8</th>\n",
       "      <td>97538.566747</td>\n",
       "      <td>97427.84</td>\n",
       "    </tr>\n",
       "    <tr>\n",
       "      <th>9</th>\n",
       "      <td>112496.703984</td>\n",
       "      <td>122776.86</td>\n",
       "    </tr>\n",
       "    <tr>\n",
       "      <th>10</th>\n",
       "      <td>128110.853888</td>\n",
       "      <td>141585.52</td>\n",
       "    </tr>\n",
       "    <tr>\n",
       "      <th>11</th>\n",
       "      <td>173383.296181</td>\n",
       "      <td>166187.94</td>\n",
       "    </tr>\n",
       "    <tr>\n",
       "      <th>12</th>\n",
       "      <td>93334.036683</td>\n",
       "      <td>89949.14</td>\n",
       "    </tr>\n",
       "    <tr>\n",
       "      <th>13</th>\n",
       "      <td>149432.237762</td>\n",
       "      <td>152211.77</td>\n",
       "    </tr>\n",
       "    <tr>\n",
       "      <th>14</th>\n",
       "      <td>173293.949649</td>\n",
       "      <td>182901.99</td>\n",
       "    </tr>\n",
       "  </tbody>\n",
       "</table>\n",
       "</div>"
      ],
      "text/plain": [
       "    Predicted value  Actual Value\n",
       "0     125972.148263     134307.35\n",
       "1      85471.922710      81005.76\n",
       "2      98924.151683      99937.59\n",
       "3      46639.786287      64926.08\n",
       "4     128142.124732     125370.37\n",
       "5      52602.190537      35673.41\n",
       "6     108364.697602     105733.54\n",
       "7     100331.588469     107404.34\n",
       "8      97538.566747      97427.84\n",
       "9     112496.703984     122776.86\n",
       "10    128110.853888     141585.52\n",
       "11    173383.296181     166187.94\n",
       "12     93334.036683      89949.14\n",
       "13    149432.237762     152211.77\n",
       "14    173293.949649     182901.99"
      ]
     },
     "execution_count": 49,
     "metadata": {},
     "output_type": "execute_result"
    }
   ],
   "source": [
    "#هيعملي مقاره بين القيم الحقيقيه و القيم اللي توقعناها كام بقا\n",
    "\n",
    "df= pd.DataFrame(data={'Predicted value':ypred.flatten(), 'Actual Value': ytest.flatten()})\n",
    "df"
   ]
  },
  {
   "cell_type": "markdown",
   "id": "ba721e3a",
   "metadata": {},
   "source": [
    "هتلاحظ اني في فروقات حصل اساسا بين القيمه البحقيقيه و القيمه المتوقعه "
   ]
  },
  {
   "cell_type": "markdown",
   "id": "7f664ebf",
   "metadata": {},
   "source": [
    "# عايزين نعمل تقييم لموديل بقا"
   ]
  },
  {
   "cell_type": "code",
   "execution_count": 51,
   "id": "58c17c6b",
   "metadata": {},
   "outputs": [],
   "source": [
    "#هستخدم حاجه اسمها r square"
   ]
  },
  {
   "cell_type": "code",
   "execution_count": 52,
   "id": "9b67764c",
   "metadata": {},
   "outputs": [
    {
     "name": "stdout",
     "output_type": "stream",
     "text": [
      "T2 score of model is : 93.55141378867275\n"
     ]
    }
   ],
   "source": [
    "#evaluate the model\n",
    "from sklearn.metrics import r2_score\n",
    "\n",
    "r2Score = r2_score (ypred,ytest)\n",
    "print(\"T2 score of model is :\" , r2Score*100)"
   ]
  },
  {
   "cell_type": "code",
   "execution_count": 53,
   "id": "d5923e63",
   "metadata": {},
   "outputs": [
    {
     "name": "stdout",
     "output_type": "stream",
     "text": [
      "Mean Squarred error is : 8177214943.547152\n"
     ]
    }
   ],
   "source": [
    "from sklearn.metrics import mean_squared_error\n",
    "\n",
    "mse=mean_squared_error(ypred, ytest)\n",
    "print(\"Mean Squarred error is :\" , mse*100)"
   ]
  },
  {
   "cell_type": "code",
   "execution_count": 55,
   "id": "2692cc69",
   "metadata": {},
   "outputs": [
    {
     "name": "stdout",
     "output_type": "stream",
     "text": [
      "Root Mean Squarred Error is : 904279.5443637522\n"
     ]
    }
   ],
   "source": [
    "rmse=np.sqrt(mean_squared_error(ypred,ytest))\n",
    "print(\"Root Mean Squarred Error is :\", rmse*100)"
   ]
  },
  {
   "cell_type": "code",
   "execution_count": 57,
   "id": "64a40f01",
   "metadata": {},
   "outputs": [
    {
     "name": "stdout",
     "output_type": "stream",
     "text": [
      "Mean Absolute Error is :  7222.59434696552\n"
     ]
    }
   ],
   "source": [
    "from sklearn.metrics import mean_absolute_error\n",
    "\n",
    "mae=mean_absolute_error(ypred,ytest)\n",
    "print(\"Mean Absolute Error is : \",mae)"
   ]
  },
  {
   "cell_type": "code",
   "execution_count": null,
   "id": "3d1eca76",
   "metadata": {},
   "outputs": [],
   "source": []
  }
 ],
 "metadata": {
  "kernelspec": {
   "display_name": "Python 3 (ipykernel)",
   "language": "python",
   "name": "python3"
  },
  "language_info": {
   "codemirror_mode": {
    "name": "ipython",
    "version": 3
   },
   "file_extension": ".py",
   "mimetype": "text/x-python",
   "name": "python",
   "nbconvert_exporter": "python",
   "pygments_lexer": "ipython3",
   "version": "3.9.12"
  }
 },
 "nbformat": 4,
 "nbformat_minor": 5
}
